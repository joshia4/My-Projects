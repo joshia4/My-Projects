{
  "cells": [
    {
      "metadata": {
        "_uuid": "84003bc737c3c82ed481effffda0b4c59b96e6b0",
        "_cell_guid": "dc8fb9ca-3f36-4412-aa42-2d15b5e09171"
      },
      "cell_type": "markdown",
      "source": "##  Importing required libraries"
    },
    {
      "metadata": {
        "_uuid": "fdff008d566238adea86a14e0f3b97ef31ea7c0c",
        "trusted": false,
        "_cell_guid": "f1647cbe-63a2-4ec8-85cc-c966195c4a7f"
      },
      "cell_type": "code",
      "source": "library(ggplot2) # Data visualization\nlibrary(readr) # CSV file I/O, e.g. the read_csv function\nlibrary(gplots)\nlibrary(repr)\n\n# Change plot size to 9 x 6\noptions(repr.plot.width=9, repr.plot.height=6)\n\nlist.files(\"../input\")",
      "execution_count": null,
      "outputs": []
    },
    {
      "metadata": {
        "_uuid": "d81767614a6c3e464fd0e2bae782bc413ec663ba",
        "_cell_guid": "5907999f-c047-44a2-9daf-9f1552eda53b"
      },
      "cell_type": "markdown",
      "source": "##  Importing dataset"
    },
    {
      "metadata": {
        "_uuid": "d629ff2d2480ee46fbb7e2d37f6b5fab8052498a",
        "trusted": false,
        "_cell_guid": "79c7e3d0-c299-4dcb-8224-4455121ee9b0"
      },
      "cell_type": "code",
      "source": "train <- as.data.frame(read.csv('../input/train.csv'))\nntrain = dim(train)[1]\n\ntest <- as.data.frame(read.csv('../input/test.csv'))\nntest = dim(test)[1]",
      "execution_count": null,
      "outputs": []
    },
    {
      "metadata": {
        "_uuid": "56e8bbb1c14f576a9df6c460c5d0665f67d52949",
        "_cell_guid": "f38d2847-4631-4350-bd13-5e644ac3af79"
      },
      "cell_type": "markdown",
      "source": "> ##  Finding dimensions of train and test datasets"
    },
    {
      "metadata": {
        "_uuid": "ce870d1c464159ddbff751f441f0270781afb555",
        "trusted": false,
        "_cell_guid": "705addf1-ee51-41de-88b0-ac89518b7d6e"
      },
      "cell_type": "code",
      "source": "dim(train);dim(test)",
      "execution_count": null,
      "outputs": []
    },
    {
      "metadata": {
        "_uuid": "ccd41bd231fe99768cbf373ed9a2f8666e0f463f",
        "_cell_guid": "1ac49a10-7746-497d-a82c-dfcb4cee9ee8"
      },
      "cell_type": "markdown",
      "source": "## Head of train dataset"
    },
    {
      "metadata": {
        "_uuid": "acecac5654e9b53fc075bd375a2592c9465e243b",
        "trusted": false,
        "_cell_guid": "2a71086b-ba5b-41d9-a339-9c50b2e46def"
      },
      "cell_type": "code",
      "source": "head(train)",
      "execution_count": null,
      "outputs": []
    },
    {
      "metadata": {
        "_uuid": "0135b4423da98008c0e739d97b64b21ef51d658f",
        "_cell_guid": "f9992059-71bb-49ef-9ae1-039cbc2ec837"
      },
      "cell_type": "markdown",
      "source": "## Columns in train dataset"
    },
    {
      "metadata": {
        "_uuid": "97399cfcfd360cadb656f032436746730b8b8c42",
        "trusted": false,
        "_cell_guid": "048b0baa-7c8b-41a3-a77f-02840203fcb5"
      },
      "cell_type": "code",
      "source": "names(train)",
      "execution_count": null,
      "outputs": []
    },
    {
      "metadata": {
        "_uuid": "3e4d49d255945d30348ba4b647a54e94ebdfb45b",
        "_cell_guid": "37804ffd-491f-47c3-8d40-1125b8119beb"
      },
      "cell_type": "markdown",
      "source": "## Summary of train dataset"
    },
    {
      "metadata": {
        "scrolled": true,
        "_uuid": "7ee96da18efe50e29de96bcbc85ab2923adfc0f8",
        "trusted": false,
        "_cell_guid": "6ea06e47-b38b-4ea9-9905-743401e94947"
      },
      "cell_type": "code",
      "source": "summary(train)",
      "execution_count": null,
      "outputs": []
    },
    {
      "metadata": {
        "_uuid": "17a8af9e800f23df0a5f3acbbd23ea3f6015054e",
        "_cell_guid": "f730579b-de77-443b-869e-339b040069f3"
      },
      "cell_type": "markdown",
      "source": "## Identifying numeric and categorical variables"
    },
    {
      "metadata": {
        "scrolled": false,
        "_uuid": "3f91063216dccaba033647efa300e9b0a5fd1faf",
        "trusted": false,
        "_cell_guid": "9cd321f0-a31f-4e20-bfcc-ec3a429cb0f7"
      },
      "cell_type": "code",
      "source": "all_cols = names(train)\n\nnumeric_columns <- c('TotRmsAbvGrd','GrLivArea','LotFrontage','LotArea','YearBuilt','YearRemodAdd','BsmtUnfSF','TotalBsmtSF','BsmtFinSF1','BsmtFinSF2','FullBath','HalfBath',\n                     'BedroomAbvGr','GarageYrBlt','GarageCars','GarageArea','WoodDeckSF','OpenPorchSF', 'ScreenPorch','PoolArea','MiscVal','MoSold','YrSold','MasVnrArea',\n                     'X1stFlrSF' ,'X2ndFlrSF','LowQualFinSF','EnclosedPorch','X3SsnPorch','SalePrice')\n\nnumeric_columns1 <- c('TotRmsAbvGrd','GrLivArea','LotFrontage','LotArea','YearBuilt','YearRemodAdd','BsmtUnfSF','TotalBsmtSF','BsmtFinSF1','BsmtFinSF1','SalePrice')\n\nnumeric_columns2<-c('TotalBsmtSF','1stFlrSF','2ndFlrSF','FullBath','HalfBath','BedroomAbvGr','GarageYrBlt','GarageCars','GarageArea','WoodDeckSF','OpenPorchSF',\n                      '3SsnPorch','ScreenPorch','PoolArea','MiscVal','MoSold','YrSold','MasVnrArea','SalePrice')\n\ncategorical_columns = setdiff(all_cols, c(numeric_columns,'Id'))\ncategorical_columns",
      "execution_count": null,
      "outputs": []
    },
    {
      "metadata": {
        "_uuid": "3b521d66e34680a1b569cc5367c911143011cbfe",
        "_cell_guid": "aec0a770-12a3-4565-b8da-82a0f420fe84"
      },
      "cell_type": "markdown",
      "source": "## Imputing Null values"
    },
    {
      "metadata": {
        "scrolled": false,
        "_uuid": "3ad14f19505e5b55e77cc2f5f7ea8ac97ce5efc5",
        "trusted": false,
        "_cell_guid": "94581482-60f0-47a2-b484-8b2515111d90"
      },
      "cell_type": "code",
      "source": "for(i in all_cols){\n    if (is.element(i,categorical_columns)) {\n       train[,i] <-sapply(train[,i], function(x) ifelse(is.na(x), 'None', x))\n       #train[,i] <-sapply(train[,i], function(x) as.factor(x))  \n    } \n    else{\n        train[,i] <-sapply(train[,i], function(x) ifelse(is.na(x), median(train[,i], na.rm = TRUE), x))\n         } \n}\n                           \nfor(i in names(test)){\n    if (is.element(i,categorical_columns)) {\n       test[,i] <-sapply(test[,i], function(x) ifelse(is.na(x), 'None', x))\n       #test[,i] <-sapply(test[,i], function(x) as.factor(x))  \n    } \n    else{\n        test[,i] <-sapply(test[,i], function(x) ifelse(is.na(x), median(test[,i], na.rm = TRUE), x))\n         } \n}\n",
      "execution_count": null,
      "outputs": []
    },
    {
      "metadata": {
        "_uuid": "07f4975ff58031c2273742a76c3c8606b35c4c9e",
        "_cell_guid": "e87af609-d91e-46c5-b3e7-37ba8d7cd63d"
      },
      "cell_type": "markdown",
      "source": "## Finding correlation between various numerical variables and the SalePrice"
    },
    {
      "metadata": {
        "_uuid": "52508397008ff10706678cd4d1837d005cebe33a",
        "trusted": false,
        "_cell_guid": "2ed0c7ca-d661-4f58-b48a-6b513192d673"
      },
      "cell_type": "code",
      "source": "library(corrplot)\nlibrary(ggcorrplot)\ncor_ind = round(cor(train[numeric_columns]),1)\np.mat <- cor_pmat(train[numeric_columns])\n\nlibrary(ggcorrplot)\nggcorrplot(cor_ind, p.mat = p.mat, hc.order = FALSE,\n           , insig = \"blank\", lab = TRUE,lab_size =2) +\ntheme(axis.text.x=element_text(size=7, angle=45, vjust=1, hjust=1, \n                               margin=margin(-3,0,0,0)),\n      axis.text.y=element_text(size=7, margin=margin(0,-3,0,0)),\n      panel.grid.major=element_blank(),\n      plot.title = element_text( face=\"bold\", size=10, hjust=0)) +\n  ggtitle(\"Correlation between various numeric columns\")",
      "execution_count": null,
      "outputs": []
    },
    {
      "metadata": {
        "_uuid": "213c6ea897c770c3d802ac1012ee7c92f1d1b93d",
        "_cell_guid": "4f2185bd-c1c9-4942-9615-6c1aa30338c3"
      },
      "cell_type": "markdown",
      "source": "## Correlation between various independent variables"
    },
    {
      "metadata": {
        "_uuid": "9935af97b9658ee3843f74c5dab1b4618c24bb02",
        "trusted": false,
        "_cell_guid": "61aa4c6c-bb3c-48fc-9aa3-376ddeac9f6a"
      },
      "cell_type": "code",
      "source": " \nset.seed(123)\nlibrary(dplyr)\nlibrary(tidyr)\n  \n  p = cor(train[numeric_columns]) %>%\n    as.data.frame() %>%\n    mutate(var1 = rownames(.)) %>%\n    gather(var2, value, -var1) %>%\n    arrange(desc(value)) %>%\n    group_by(value) %>%\n    filter(row_number()==1)\n\np[p['value']>=0.5,]\n",
      "execution_count": null,
      "outputs": []
    },
    {
      "metadata": {
        "_uuid": "c7827b2a786bcf8fa0f98c1938013481ddc1807b",
        "_cell_guid": "4ed5ad0b-4fb1-4a98-9e45-cb35c1d3712a"
      },
      "cell_type": "markdown",
      "source": "## Box plots between categorical variables and SalePrice"
    },
    {
      "metadata": {
        "scrolled": true,
        "_uuid": "c99878a06dfd7911909b410807761c30cd17a372",
        "trusted": false,
        "_cell_guid": "c4ae3324-e7de-4384-b672-33f41a4830a4"
      },
      "cell_type": "code",
      "source": "#Now lets consider correlation of 'SalePrice' with categorical variables\n#Consider 'YearBuilt', 'LandContour', 'BldgType', 'RoofStyle', 'Foundation', 'Heating'\nlibrary(GGally)\nplots = NULL\nfor (i in categorical_columns){\nplots[[i]] = ggally_box(train, aes_string(i,\"SalePrice\", color = i))\n    }\n\nlibrary(grid)\nlibrary(gridExtra)\n#grid.arrange(plots, ncol = 2)\n\ni=0\ngrid.arrange(plots[[i+1]],plots[[i+2]],plots[[i+3]],plots[[i+4]],plots[[i+5]],plots[[i+6]],\n             plots[[i+7]],plots[[i+8]],plots[[i+9]],plots[[i+10]],plots[[i+11]],plots[[i+12]],\n             plots[[i+13]],plots[[i+14]],plots[[i+15]],ncol=3)\ni=15\ngrid.arrange(plots[[i+1]],plots[[i+2]],plots[[i+3]],plots[[i+4]],plots[[i+5]],plots[[i+6]],\n             plots[[i+7]],plots[[i+8]],plots[[i+9]],plots[[i+10]],plots[[i+11]],plots[[i+12]],\n             plots[[i+13]],plots[[i+14]],plots[[i+15]],ncol=3)\n\ni=30\ngrid.arrange(plots[[i+1]],plots[[i+2]],plots[[i+3]],plots[[i+4]],plots[[i+5]],plots[[i+6]],\n             plots[[i+7]],plots[[i+8]],plots[[i+9]],plots[[i+10]],plots[[i+11]],plots[[i+12]],\n             plots[[i+13]],plots[[i+14]],plots[[i+15]],ncol=3)\ni=45\ngrid.arrange(plots[[i+1]],plots[[i+2]],plots[[i+3]],plots[[i+4]],plots[[i+5]],ncol = 2)",
      "execution_count": null,
      "outputs": []
    },
    {
      "metadata": {
        "_uuid": "cbb7af4907e2afd6c8d425052d4fc9524a76af5c",
        "_cell_guid": "41bc3573-4e41-4e30-96be-6b776d2b196a"
      },
      "cell_type": "markdown",
      "source": "## Plotting the histogram for dependent variable 'SalePrice'"
    },
    {
      "metadata": {
        "_uuid": "f358bfa465209063b6ff4d91a6a0490c42786b9c",
        "trusted": false,
        "_cell_guid": "382bd06c-8dfa-4094-ae7d-61133eaa79e5"
      },
      "cell_type": "code",
      "source": "\ndata1 = data.frame(train$SalePrice)\nnames(data1)[1] <- \"SalePrice\"\ndata1['LogSalePRice'] = log(train$SalePrice)\n\nout<-list()\n\nfor (c in names(data1)){\n    x = data1[,c]\n   out[[c]] <- ggplot(data.frame(x), aes(x)) + geom_histogram() + ggtitle(c)\n}\n\ni=0\ngrid.arrange(out[[i+1]],out[[i+2]],ncol=2)",
      "execution_count": null,
      "outputs": []
    },
    {
      "metadata": {
        "_uuid": "75249af628abc21b89b2f38b6ac9f7fbf6327249",
        "_cell_guid": "c02bee0d-0af5-47f9-be5c-60dd113ff8b3"
      },
      "cell_type": "markdown",
      "source": "## Quintile quintile plots for SalePrice"
    },
    {
      "metadata": {
        "scrolled": false,
        "_uuid": "5c24b8182dc3cacba729c07ef29432099328b832",
        "trusted": false,
        "_cell_guid": "3f6ce027-c476-4ece-8ea3-26419634d559"
      },
      "cell_type": "code",
      "source": "qqnorm(train$SalePrice);qqline(train$SalePrice);qqnorm(log(train$SalePrice));qqline(log(train$SalePrice))",
      "execution_count": null,
      "outputs": []
    },
    {
      "metadata": {
        "_uuid": "a0c0f13d08e035be7d4f3a814675198456d30420",
        "_cell_guid": "1378e010-df81-4c98-a35b-e2d4eadde414"
      },
      "cell_type": "markdown",
      "source": "## Plotting histograms for all the numerical columns"
    },
    {
      "metadata": {
        "scrolled": false,
        "_uuid": "a56a329cf1728362c684dc411cb94beacaa16c62",
        "trusted": false,
        "_cell_guid": "f263a68e-1014-4b64-9c7d-cda89a5e6679"
      },
      "cell_type": "code",
      "source": "out<-list()\n\nfor (c in numeric_columns){\n    x = train[,c]\n   out[[c]] <- ggplot(data.frame(x), aes(x)) + geom_histogram() + ggtitle(c)\n}\ni=0\ngrid.arrange(out[[i+1]],out[[i+2]],out[[i+3]],out[[i+4]],out[[i+5]],out[[i+6]],\n             out[[i+7]],out[[i+8]],out[[i+9]],out[[i+10]],out[[i+11]],out[[i+12]],\n             out[[i+13]],out[[i+14]],out[[i+15]],ncol=5)\ni=15\ngrid.arrange(out[[i+1]],out[[i+2]],out[[i+3]],out[[i+4]],out[[i+5]],out[[i+6]],\n             out[[i+7]],out[[i+8]],out[[i+9]],out[[i+10]],out[[i+11]],out[[i+12]],\n             out[[i+13]],out[[i+14]],out[[i+15]],ncol=5)",
      "execution_count": null,
      "outputs": []
    },
    {
      "metadata": {
        "_uuid": "40683753d56a2cf8afc187afa9a3964bce68ce17",
        "_cell_guid": "60af2067-7a1e-4410-8b27-fa816e2fd22d"
      },
      "cell_type": "markdown",
      "source": "## Some feature engineering"
    },
    {
      "metadata": {
        "_uuid": "49d21f2936b1a1d89138e3d4655a034ee37da010",
        "trusted": false,
        "_cell_guid": "1561a7fa-ecfb-4cbc-b816-13dc83fa88c6"
      },
      "cell_type": "code",
      "source": "#Create a combined dataset \nntrain= dim(train)[1]\nntest= dim(test)[1]\n#train_original = data.frame(train)\nall_data = rbind(train[,c(1:80)],test)\n\n#Adding one new feature:\nfor(i in all_cols){\n    if (is.element(i,categorical_columns)) {\n       all_data[,i] <-sapply(all_data[,i], function(x) as.factor(x)) \n    } \n                             }\n                             \nall_data['TotalSF'] = all_data['TotalBsmtSF'] + all_data['X1stFlrSF'] + all_data['X2ndFlrSF']",
      "execution_count": null,
      "outputs": []
    },
    {
      "metadata": {
        "_uuid": "9e1db71cb1404c96a51937892afc3f717ff8f39f",
        "_cell_guid": "0d979461-1fad-4d2b-9e6d-a9834b9eb3d3"
      },
      "cell_type": "markdown",
      "source": "## Splitting the original training dataset into training and testing sets."
    },
    {
      "metadata": {
        "_uuid": "58568b0f0c10f48e837cd6a32617571c6e1fca51",
        "trusted": false,
        "_cell_guid": "559a15bf-ac63-422f-878c-2f0a0ff7169d"
      },
      "cell_type": "code",
      "source": "ntrain_set = 1100\nnvali_set = 360\n\ntrain_x <- all_data[1:ntrain_set,][-1]\ntrain_y <- log(train[1:ntrain_set,'SalePrice'])\nval_x <- all_data[(ntrain_set+1):dim(train)[1],][-1]\nval_y <-log(train[(ntrain_set+1):dim(train)[1],'SalePrice'])\ntest_x = data.frame(test)",
      "execution_count": null,
      "outputs": []
    },
    {
      "metadata": {
        "_uuid": "d80ef51124dc0ef0fbdad6b43c265be0615e2708",
        "_cell_guid": "4060a0be-f970-4b25-b21d-25463c40a648"
      },
      "cell_type": "markdown",
      "source": "## Ridge regression model"
    },
    {
      "metadata": {
        "_uuid": "46f8e47e271050ff0e26ded432f603b1b50e5d9f",
        "trusted": false,
        "_cell_guid": "b0e08ac2-e87a-42aa-b4c0-3350f1a188de"
      },
      "cell_type": "code",
      "source": "library(glmnet)\n\nx_train <- model.matrix(train_y~., cbind(train_x,train_y))[,-1]\nx_val<-model.matrix(~.,data=val_x)[,-1]\n\nlambda <- c(0.05, 0.1, 0.3, 1, 3, 5, 10, 15, 30, 50, 75)\n\nridge.mod <- glmnet(x_train, train_y, alpha = 0, lambda = lambda,family=\"gaussian\")\n\ncv.out <- cv.glmnet(x_train, train_y, alpha = 0)\n\nbestlam <- cv.out$lambda.min\n\nridge.pred <- predict(ridge.mod, s = bestlam, newx = x_val)\n\nplot(cv.out);bestlam;(mean((exp(ridge.pred) - exp(val_y))^2))^0.5\n",
      "execution_count": null,
      "outputs": []
    },
    {
      "metadata": {
        "_uuid": "2b79c26b99c6919ae39316fd07cf050684fe84c8",
        "_cell_guid": "6f819ecb-0e0b-46ce-9846-b2f9bbd2dde8"
      },
      "cell_type": "markdown",
      "source": "## Lasso regression model."
    },
    {
      "metadata": {
        "scrolled": false,
        "_uuid": "a63806ea29a6edb863fa390b38ffc682897e8194",
        "trusted": false,
        "_cell_guid": "79bd2600-3172-406c-8fd5-5c46446d0d7c"
      },
      "cell_type": "code",
      "source": "library(glmnet)\n\nx_train <- model.matrix(train_y~., cbind(train_x,train_y))[,-1]\nx_test<-model.matrix(~.,data=val_x)[,-1]\n\nlambda <- c(0.05, 0.1, 0.3, 1, 3, 5, 10, 15, 30, 50, 75)\n\nlasso.mod <- glmnet(x_train, train_y, alpha = 1, lambda = lambda,family=\"gaussian\")\n\ncv.out <- cv.glmnet(x_train, train_y, alpha = 1)\n\nbestlam <- cv.out$lambda.min\n\nlasso.pred <- predict(lasso.mod, s = bestlam, newx = x_val)\n\nplot(cv.out);bestlam;(mean((exp(lasso.pred) - exp(val_y))^2))^0.5\n",
      "execution_count": null,
      "outputs": []
    },
    {
      "metadata": {
        "_uuid": "ad7603959e122c51947a764502fb0ac408eff123",
        "_cell_guid": "e6ff4881-adeb-4d1c-a7c5-145c541ab96f"
      },
      "cell_type": "markdown",
      "source": "## Simple linear regression model"
    },
    {
      "metadata": {
        "_uuid": "1c0918a1ffd6ca7bde35973c94ddd45ef48d524d",
        "trusted": false,
        "_cell_guid": "7c3898ad-636b-4fea-a31d-73861c47a5d5"
      },
      "cell_type": "code",
      "source": "library(glmnet)\nx_train <- model.matrix(train_y~., cbind(train_x,train_y))[,-1]\nx_test<-model.matrix(~.,data=val_x)[,-1]\n\nlambda <- c(0:0)\n\nlinear.mod <- glmnet(x_train, train_y, alpha = 0, lambda = 0,family=\"gaussian\")\n\ncv.out <- cv.glmnet(x_train, train_y, alpha = 0)\n\nbestlam <- cv.out$lambda.min\n\nlinear.pred <- predict(linear.mod, s = bestlam, newx = x_val)\n\nbestlam;(mean((exp(linear.pred) - exp(val_y))^2))^0.5\n",
      "execution_count": null,
      "outputs": []
    },
    {
      "metadata": {
        "_uuid": "f6c88f1119fdbd2b5726b19b6b7aef5afba0473e",
        "_cell_guid": "1836d0ab-f3cd-4359-a19b-48d24a35550f"
      },
      "cell_type": "markdown",
      "source": "## Simple linear regression model using basic lm method from R"
    },
    {
      "metadata": {
        "_uuid": "54f615d7d4d61c587f7adb24a284a4f2ce818914",
        "trusted": false,
        "_cell_guid": "0753316f-4383-40ac-a974-8adcd881edb4"
      },
      "cell_type": "code",
      "source": "model = lm(train_y~.,data = cbind(train_x,train_y))\nsummary(model)",
      "execution_count": null,
      "outputs": []
    },
    {
      "metadata": {
        "_uuid": "d4b86e4f18aaf8814e0de5281d92ec92b8b4582e",
        "trusted": false,
        "_cell_guid": "64de957a-982d-4919-8e93-f34c294e07a3"
      },
      "cell_type": "code",
      "source": "## Residual plot for simple lieanr regression model",
      "execution_count": null,
      "outputs": []
    },
    {
      "metadata": {
        "_uuid": "c0767a86da97d7bdade226bd07e49d92c9090a4c",
        "trusted": false,
        "_cell_guid": "a75b9d04-87f7-46e1-9a00-bb1089cf93d9"
      },
      "cell_type": "code",
      "source": "plot(residuals(model),main = 'Residuals')",
      "execution_count": null,
      "outputs": []
    },
    {
      "metadata": {
        "_uuid": "2e01b59bbf46eba1f41e9a883be01a7c2b1437bb",
        "_cell_guid": "33b59744-7c49-4a25-855d-6141444eec7a"
      },
      "cell_type": "markdown",
      "source": "## XGBoost Model"
    },
    {
      "metadata": {
        "_uuid": "1782162a34e3afffd3efe988b0cd4b0185c264c7",
        "trusted": false,
        "_cell_guid": "07ffbf63-d784-49e3-9b9c-3c24dc8f55cb"
      },
      "cell_type": "code",
      "source": "require(xgboost)\nset.seed(100)\n\nxgb.mod = xgboost(data = as.matrix(x_train), nfold = 5, label = as.matrix(train_y), \n    nrounds = 2000, verbose = FALSE, objective = \"reg:linear\", eval_metric = \"rmse\", \n    nthread = 8, eta = 0.01, gamma = 0.0468, max_depth = 6, min_child_weight = 1.7817, \n    subsample = 0.5213, colsample_bytree = 0.4603)\nxgb.importance(colnames(as.matrix(x_train)), model = xgb.mod)\n## print(xgbFit)\n\n## Predictions\nxgb.pred <- predict(xgb.mod, newdata = as.matrix(x_val))\nxgb.pred <- predict(xgb.mod, newdata = as.matrix(test_x))\n(mean((exp(xgb.pred) - exp(test_y))^2))^0.5;(mean((xgb.pred - val_y)^2))^0.5",
      "execution_count": null,
      "outputs": []
    },
    {
      "metadata": {
        "_uuid": "4d6111c37706bc135e060b4609ebe16c30f10453",
        "trusted": false,
        "_cell_guid": "0adad021-cf6c-49da-bd56-e96c7e38f843"
      },
      "cell_type": "code",
      "source": "c1 = 0.7\nfinal.pred = c1*xgb.pred + (1-c1)*lasso.pred\n(mean((exp(final.pred) - exp(test_y))^2))^0.5",
      "execution_count": null,
      "outputs": []
    },
    {
      "metadata": {
        "_uuid": "e691d588fcb8066ab3f6a4c87981d3395529a912",
        "trusted": false,
        "_cell_guid": "452bbd2c-6564-4a11-a074-16613f40ec05"
      },
      "cell_type": "code",
      "source": "x = c(length(numeric_columns), length(categorical_columns))\nheader <- c('Numeric','Categorical')\ncolumns<- data.frame(header,x)\n",
      "execution_count": null,
      "outputs": []
    },
    {
      "metadata": {
        "_uuid": "1335b2322df2c2192a41a712f6f00f1aae653aff",
        "trusted": false,
        "_cell_guid": "d7df274a-8624-4770-8016-6d2f17800c9d"
      },
      "cell_type": "code",
      "source": "write.csv(cbind())",
      "execution_count": null,
      "outputs": []
    },
    {
      "metadata": {
        "_uuid": "003a98d1764602219fc82983624543a82c087111",
        "trusted": false,
        "_cell_guid": "22a11db8-8d8c-4ad9-b5c7-0712309e9b3d"
      },
      "cell_type": "code",
      "source": "",
      "execution_count": null,
      "outputs": []
    },
    {
      "metadata": {
        "_uuid": "3383826d39e1be5cc55ebb23df337f9d3907830c",
        "trusted": false,
        "_cell_guid": "69084c07-cc8c-4f87-96cd-1582ba2d93f7"
      },
      "cell_type": "code",
      "source": "",
      "execution_count": null,
      "outputs": []
    }
  ],
  "metadata": {
    "kernelspec": {
      "display_name": "R",
      "language": "R",
      "name": "ir"
    },
    "language_info": {
      "mimetype": "text/x-r-source",
      "name": "R",
      "pygments_lexer": "r",
      "version": "3.4.2",
      "file_extension": ".r",
      "codemirror_mode": "r"
    }
  },
  "nbformat": 4,
  "nbformat_minor": 1
}