{
  "cells": [
    {
      "metadata": {
        "collapsed": true,
        "_uuid": "214bd7a5a9ae5c392470423c7107ecce33d1cf40",
        "_cell_guid": "0985a677-b183-4426-b7b2-2e6386023312"
      },
      "cell_type": "markdown",
      "source": "### EDA\n\n### Exploring data to understand key features and clean the data"
    },
    {
      "metadata": {
        "collapsed": true,
        "_uuid": "6c58398481e0825452030c8a619a536edc97f870",
        "_cell_guid": "6ab6ab54-8b7c-4972-9717-b1c8689d6d49",
        "trusted": false
      },
      "cell_type": "code",
      "source": "# Importing the required packages:\nimport numpy as np # linear algebra\nimport pandas as pd # data processing, CSV file I/O (e.g. pd.read_csv)\nimport seaborn as sns\nimport matplotlib.pyplot as plt\n%matplotlib inline",
      "execution_count": null,
      "outputs": []
    },
    {
      "metadata": {
        "collapsed": true,
        "_uuid": "bbd52f67b1284b1dd85f3bcf668cc2b512f984d0",
        "_cell_guid": "b3fcd45f-205d-4087-8bd5-71b46e15bec9",
        "trusted": false
      },
      "cell_type": "code",
      "source": "# importing train and test data sets and \ntrain = pd.read_csv('../input/train.csv')\ntest = pd.read_csv('../input/test.csv')",
      "execution_count": null,
      "outputs": []
    },
    {
      "metadata": {
        "collapsed": true,
        "_uuid": "4aeecc38ee4ec65764d8685f3d352589b419b5f9",
        "_cell_guid": "deeda9c8-223f-41d0-894d-fe9246879cdc",
        "trusted": false
      },
      "cell_type": "code",
      "source": "testRecordCount = test.shape[0]\ntrainRecordCount = train.shape[0]",
      "execution_count": null,
      "outputs": []
    },
    {
      "metadata": {
        "_uuid": "3f5f482a9592e7ef04586db9552fa17e8392b300",
        "_cell_guid": "b724e7f7-9225-4376-a189-4847a99dbd77",
        "trusted": false,
        "collapsed": true
      },
      "cell_type": "code",
      "source": "# Dimentions of Size of the train data\nprint('This dataset contain',train.shape[0],'rows and',train.shape[1],'columns')",
      "execution_count": null,
      "outputs": []
    },
    {
      "metadata": {
        "_uuid": "7413e3426af33764449eea6fd7999c152d2c3ee3",
        "_cell_guid": "c42ef237-d341-41a0-88d0-12a81008a584",
        "trusted": false,
        "collapsed": true
      },
      "cell_type": "code",
      "source": "#Lets describe the data\ntrain.describe()",
      "execution_count": null,
      "outputs": []
    },
    {
      "metadata": {
        "collapsed": true,
        "_uuid": "371da16551094448bc5cfa264530e024c104e2c2",
        "_cell_guid": "3e59a330-8d88-489b-a162-3e29f7c1340c",
        "trusted": false
      },
      "cell_type": "code",
      "source": "columdatatypes = pd.DataFrame({'Feature': train.columns , 'Data Type': train.dtypes.values})",
      "execution_count": null,
      "outputs": []
    },
    {
      "metadata": {
        "collapsed": true,
        "_uuid": "c08f3887db645dd0396099a3bd3c12441ce82ed7",
        "_cell_guid": "b55654e8-322f-493d-b9aa-0c18bc999029",
        "trusted": false
      },
      "cell_type": "code",
      "source": "## Fixing -1 with NaN values\ntrain_withNull = train.replace(-1, np.NaN)\ntest_withNull = test.replace(-1, np.NaN)",
      "execution_count": null,
      "outputs": []
    },
    {
      "metadata": {
        "_uuid": "0ee871dcdd2d2e1d99ef5b7e2655f5b04a8d2f8e",
        "_cell_guid": "22f2fea1-6148-40a5-8e06-ea2f6db202d2",
        "trusted": false,
        "collapsed": true
      },
      "cell_type": "code",
      "source": "# Listing columns which contain null values\nNullColumns = train_withNull.isnull().any()[train_withNull.isnull().any()].index.tolist()\nNullColumns",
      "execution_count": null,
      "outputs": []
    },
    {
      "metadata": {
        "_uuid": "ef58cc9094f900bc5ceba1bc8eeffad6019c1349",
        "_cell_guid": "9b7bc0f0-2422-4c7c-8d88-c6d50645a215",
        "trusted": false,
        "collapsed": true
      },
      "cell_type": "code",
      "source": "# Heat map of null value columns in the data \n#In the data, NULL values have been coded as -1\nplt.figure(figsize=(10,3))\nsns.heatmap(train_withNull[NullColumns].isnull().astype(int), cmap='viridis')",
      "execution_count": null,
      "outputs": []
    },
    {
      "metadata": {
        "scrolled": true,
        "_uuid": "7608aea1abc6e09a3aecbab6c4c1c35a643992fa",
        "_cell_guid": "1674d2ad-1ff4-4360-adcd-a611238de8dc",
        "trusted": false,
        "collapsed": true
      },
      "cell_type": "code",
      "source": "# percentage of values that are null in each column\nprint((train_withNull[NullColumns].isnull().sum()/train_withNull[NullColumns].isnull().count())*100)\nprint((test_withNull[NullColumns].isnull().sum()/test_withNull[NullColumns].isnull().count())*100)",
      "execution_count": null,
      "outputs": []
    },
    {
      "metadata": {
        "collapsed": true,
        "_uuid": "a4c72fcba315ac28894e2b00ee85ba93cda2431d",
        "_cell_guid": "9ccf552d-19d5-4ade-bd06-b96b7db45519",
        "trusted": false
      },
      "cell_type": "code",
      "source": "#We can feed these values with the median values of these columns\ntrain_median_values = train_withNull.median(axis=0)\ntest_median_values = test_withNull.median(axis=0)\ntrain_NoNull = train_withNull.fillna(train_median_values, inplace=False)\ntest_NoNull = test_withNull.fillna(test_median_values, inplace=False)",
      "execution_count": null,
      "outputs": []
    },
    {
      "metadata": {
        "_uuid": "4f68e8cfdba3fae0952b3fa056df4ff3256b1019",
        "_cell_guid": "f4158cdf-55d9-4f8c-9b3f-db0b485f0840",
        "trusted": false,
        "collapsed": true
      },
      "cell_type": "code",
      "source": "# HEat map after replacing all NULL values with the corresponding column medians\nplt.figure(figsize=(10,4))\nsns.heatmap(train_NoNull.isnull(), cmap='viridis')",
      "execution_count": null,
      "outputs": []
    },
    {
      "metadata": {
        "_uuid": "223bc3e3b256d9710b9add09b6206faf6b6e80f3",
        "_cell_guid": "991ba5fd-d753-4b7f-8925-7a712a2e8116"
      },
      "cell_type": "markdown",
      "source": "#### There are no nulls in the data anymore"
    },
    {
      "metadata": {
        "collapsed": true,
        "_uuid": "7cc842594c0586b0734fd96e80653ce0dcf80762",
        "_cell_guid": "2922e9eb-6fe4-4a66-9872-aa71713a3309",
        "trusted": false
      },
      "cell_type": "code",
      "source": "#Segregating binary, categorical and continuous columns \nCatColumns = [c for c in train_NoNull.columns if c.endswith(\"cat\")]\nBinColumns = [c for c in train_NoNull.columns if c.endswith(\"bin\")]\nContColumns = [c for c in train_NoNull.columns if (c not in CatColumns and c not in BinColumns) ]\n",
      "execution_count": null,
      "outputs": []
    },
    {
      "metadata": {
        "_uuid": "878ce2cb659c3d94b1bf598fe25625154af0c447",
        "_cell_guid": "7a9e7475-abb3-426b-b50e-4994b03e8a12",
        "trusted": false,
        "collapsed": true
      },
      "cell_type": "code",
      "source": "print('# of categorical columns =',len(CatColumns))\nprint('# of Binary columns =',len(BinColumns))\nprint('# of Continuous columns =',len(ContColumns))\n",
      "execution_count": null,
      "outputs": []
    },
    {
      "metadata": {
        "_uuid": "e4216cc95bf46b6ebdfaa2514ec838a855606663",
        "_cell_guid": "a3b3eb2c-f07b-46be-88d5-51683d249993",
        "trusted": false,
        "collapsed": true
      },
      "cell_type": "code",
      "source": "#Analysing Binary featuresns:\nplt.figure(figsize=(9,5))\nfor i,c in enumerate(BinColumns):\n    ax = plt.subplot(3,7,i+1)\n    sns.countplot(train_NoNull[c],orient ='v')",
      "execution_count": null,
      "outputs": []
    },
    {
      "metadata": {
        "_uuid": "bba63dc0d6c8cb1c812cd59d3fe5adeec03cd9d5",
        "_cell_guid": "75c3fc94-f88a-43e6-ad0e-39e1f8f3512e"
      },
      "cell_type": "markdown",
      "source": "It seems all binary columns have mix of zero and one. Else we could eliminate those binary columns which are all zero or all 1 values"
    },
    {
      "metadata": {
        "_uuid": "ecb3f4b0760d7e5bdd817206d7f1e85730369ff7",
        "_cell_guid": "2e77d4ec-f1c9-453d-b25e-9eef12e54af8",
        "trusted": false,
        "collapsed": true
      },
      "cell_type": "code",
      "source": "#Analysing output variable 'target:\nplt.figure(figsize=(9,5))\nsns.countplot(train_NoNull['target'],orient ='v',)",
      "execution_count": null,
      "outputs": []
    },
    {
      "metadata": {
        "_uuid": "51c1451fce608881b1f5d35dcf780c47c7f3ffa0",
        "_cell_guid": "91a1ca00-393f-4638-aa67-c36dd5af6553",
        "trusted": false,
        "collapsed": true
      },
      "cell_type": "code",
      "source": "# % of true values\n((train_NoNull['target']==1).sum()/(train_NoNull['target']==1).count())*100",
      "execution_count": null,
      "outputs": []
    },
    {
      "metadata": {
        "_uuid": "7234e636b41554d0ebdcfe353267bb387fce1cdc",
        "_cell_guid": "a450e0fe-4812-45c2-aae8-6aea125234ba"
      },
      "cell_type": "markdown",
      "source": "The output variable is highly imbalanced towards not true"
    },
    {
      "metadata": {
        "collapsed": true,
        "_uuid": "c4dcfd2352fd1f203ef17c183d9d050dcad938b4",
        "_cell_guid": "f3d46b63-5dff-4696-b67d-105951636326",
        "trusted": false
      },
      "cell_type": "code",
      "source": "#Within continuous variables, there are many different groups denoted by tags 'ind','reg', 'car' and calc. LEle\n#analyse those groups separately\nindContColumns = [c for c in ContColumns if c.find('ind')!=-1]\nregContColumns = [c for c in ContColumns if c.find('reg')!=-1]\ncarContColumns = [c for c in ContColumns if c.find('car')!=-1]\ncalcContColumns = [c for c in ContColumns if c.find('calc')!=-1]",
      "execution_count": null,
      "outputs": []
    },
    {
      "metadata": {
        "_uuid": "466d7d321f5e3f95542351fcc12005e1daed34bb",
        "_cell_guid": "766a30f1-c0c5-4285-bf1d-27a36c7424f2",
        "trusted": false,
        "collapsed": true
      },
      "cell_type": "code",
      "source": "print('# of independent continuous columns =',len(indContColumns))\nprint('# of reg continuous columns=',len(regContColumns))\nprint('# of car continuous columns',len(carContColumns))\nprint('# of calculated continuous columns',len(calcContColumns))",
      "execution_count": null,
      "outputs": []
    },
    {
      "metadata": {
        "_uuid": "18c6c00e3574da5cc71f50c1a057888cc9477630",
        "_cell_guid": "7379aef9-cce0-43d1-a768-4109da1ee2b5",
        "trusted": false,
        "collapsed": true
      },
      "cell_type": "code",
      "source": "# Check for correlation between various continuous columns\nplt.figure(figsize=(10,5))\nsns.heatmap(train_NoNull[ContColumns].corr(), annot  = False,cmap= plt.cm.inferno)",
      "execution_count": null,
      "outputs": []
    },
    {
      "metadata": {
        "_uuid": "479e329a19b35cf6abd7db1370f4f4180179895a",
        "_cell_guid": "aabf279a-8e91-4d79-ba20-cd9a0260038e"
      },
      "cell_type": "markdown",
      "source": "Here we can observe that the 'target' variable which is the predicted variable is not correlated with nay of the continous columns"
    },
    {
      "metadata": {
        "_uuid": "6ed73a64e43c579b527263d703bf97d2db72d0a0",
        "_cell_guid": "6a9359c4-73e0-48a2-8c70-956af46a4a1f",
        "trusted": false,
        "collapsed": true
      },
      "cell_type": "code",
      "source": "#Plotting count of individual categories in each category attribute\nplt.figure(figsize=(15,10))\nfor i,c in enumerate(CatColumns):\n    ax = plt.subplot(4,4,i+1)\n    sns.countplot(train_NoNull[c],orient ='v')",
      "execution_count": null,
      "outputs": []
    },
    {
      "metadata": {
        "_uuid": "0c9d7a919bc34b8d96a0963da4aa9bc6d19a76bd",
        "_cell_guid": "c7984e23-a83a-4c3b-9f7e-1329cdec9080",
        "trusted": false,
        "collapsed": true
      },
      "cell_type": "code",
      "source": "#Plotting count of individual categories in each category attribute\nplt.figure(figsize=(15,10))\nfor i,c in enumerate(CatColumns):\n    ax = plt.subplot(4,4,i+1)\n    sns.countplot(train_NoNull[c],orient ='v')",
      "execution_count": null,
      "outputs": []
    },
    {
      "metadata": {
        "_uuid": "beb009331c664a74bfed95bdcbc18f0d40258fa2",
        "_cell_guid": "5320d7ad-c517-4988-bf30-2dd55c54f2ae",
        "trusted": false,
        "collapsed": true
      },
      "cell_type": "code",
      "source": "#Plotting count of individual categories in each category attribute\nplt.figure(figsize=(15,10))\nfor i,c in enumerate(CatColumns):\n    ax = plt.subplot(4,4,i+1)\n    Frequency =(100*train_NoNull.groupby([c])['target'].sum()/train_NoNull.groupby([c])['target'].count())\n    sns.barplot(Frequency.index,Frequency)",
      "execution_count": null,
      "outputs": []
    },
    {
      "metadata": {
        "_uuid": "f4bb5c8f19370acfd018f8858576c910bee43e34",
        "_cell_guid": "387ce6d0-7134-4f01-8503-cb689d6ec4b1",
        "trusted": false,
        "collapsed": true
      },
      "cell_type": "code",
      "source": "# Let's deep dive into ps_car_11_cat attribute as it has a large number of categories\nplt.figure(figsize=(20,5))\nax = plt.subplot()\nsns.countplot(train_NoNull['ps_car_11_cat'],orient ='v')",
      "execution_count": null,
      "outputs": []
    },
    {
      "metadata": {
        "_uuid": "29cf49d04c50d8e29e7e59b4dc97286371589ade",
        "_cell_guid": "0595983f-1d99-4d40-beee-5371b418ea7e",
        "trusted": false,
        "collapsed": true
      },
      "cell_type": "code",
      "source": "# Let's look at the top 20 categories in 'ps_car_11_cat' attribute\ntrain_NoNull['ps_car_11_cat'].value_counts().head(20).plot(kind='bar')",
      "execution_count": null,
      "outputs": []
    },
    {
      "metadata": {
        "scrolled": true,
        "_uuid": "7dea33760fef63e9644523876139b373fe5e7304",
        "_cell_guid": "93ae79dd-1570-436f-9fa5-42d94fbb6c36",
        "trusted": false,
        "collapsed": true
      },
      "cell_type": "code",
      "source": "# Lets convert categorical attributes to their corresponding dummy variables by one hot encoding\ntrain_NoNull_wDummies = pd.get_dummies(train_NoNull,columns = CatColumns,prefix=None)\ntest_NoNull_wDummies = pd.get_dummies(test_NoNull,columns = CatColumns,prefix=None)\ntrain_NoNull_wDummies.head()",
      "execution_count": null,
      "outputs": []
    },
    {
      "metadata": {
        "collapsed": true,
        "_uuid": "848cdadb088cad50ab4d7fdc64749a8ce190b09e",
        "_cell_guid": "dbd17e52-160b-4fa8-b13d-8abfdb017178",
        "trusted": false
      },
      "cell_type": "code",
      "source": "# Getting rid of target column to create input train data\nX = train_NoNull_wDummies.drop(['target','id'],axis=1)\ny = train_NoNull_wDummies['target']",
      "execution_count": null,
      "outputs": []
    },
    {
      "metadata": {
        "collapsed": true,
        "_uuid": "e90936f63e6c4aba4c832a7fcd56236380c1814f",
        "_cell_guid": "7c449816-5f24-4631-a39a-65a8413623fb",
        "trusted": false
      },
      "cell_type": "code",
      "source": "# Divding input train data into train and test dataset\nfrom sklearn.model_selection import train_test_split\nX_train, X_test, y_train, y_test=train_test_split(X,y,test_size =0.3,random_state=10)",
      "execution_count": null,
      "outputs": []
    },
    {
      "metadata": {
        "collapsed": true,
        "_uuid": "b192e8bc856d5f740e63d94d561a1df879cfe88c",
        "_cell_guid": "93e478bd-e5e4-40ad-970f-7f3c758b9e96",
        "trusted": false
      },
      "cell_type": "code",
      "source": "# Since this is a highly imbalanced dataset with true positives values comprising only 3.5% of the data,\n#I am using Synthetic Minority Over-sampling Technique (SMOTE) to counter the effect of imbalanced data\nfrom imblearn.over_sampling import SMOTE\nfrom sklearn import metrics\nfrom sklearn.ensemble import RandomForestClassifier",
      "execution_count": null,
      "outputs": []
    },
    {
      "metadata": {
        "collapsed": true,
        "_uuid": "abfa36c9b1bbe2b2325abcb36dbed33c0a5cf4ac",
        "_cell_guid": "c89d0c9d-73d6-4463-98be-424326817ab1",
        "trusted": false
      },
      "cell_type": "code",
      "source": "sm = SMOTE(random_state=12)\nX_train_res, y_train_res = sm.fit_sample(X_train, y_train)",
      "execution_count": null,
      "outputs": []
    },
    {
      "metadata": {
        "_uuid": "30a67ace606f3b39b7932eeff82ecd7aa766b424",
        "_cell_guid": "f4884ddd-85f7-439a-8233-3a0ba9829c4b",
        "trusted": false,
        "collapsed": true
      },
      "cell_type": "code",
      "source": "clf_rf = RandomForestClassifier(bootstrap=True, n_estimators=400, random_state=12)\nclf_rf.fit(X_train_res, y_train_res)",
      "execution_count": null,
      "outputs": []
    },
    {
      "metadata": {
        "_uuid": "d590aa210da1e33393f7cd392bd51388c2d118d5",
        "_cell_guid": "fdc5f2b4-39f4-4e13-bb88-720057a1a01a",
        "trusted": false,
        "collapsed": true
      },
      "cell_type": "code",
      "source": "print('Validation Results')\nprint(clf_rf.score(X_test, y_test))\nprint(metrics.recall_score(y_test, clf_rf.predict(X_test)))",
      "execution_count": null,
      "outputs": []
    },
    {
      "metadata": {
        "collapsed": true,
        "_uuid": "b5dbfef132b9ecf05efe24af1fdbe019923a6af5",
        "_cell_guid": "705a4bb7-4e47-433e-8598-ac69089abab8",
        "trusted": false
      },
      "cell_type": "code",
      "source": "# Compute gini\n# from CPMP's kernel https://www.kaggle.com/cpmpml/extremely-fast-gini-computation @jit\ndef eval_gini(y_true, y_prob):\n    y_true = np.asarray(y_true)\n    y_true = y_true[np.argsort(y_prob)]\n    ntrue = 0\n    gini = 0\n    delta = 0\n    n = len(y_true)\n    for i in range(n-1, -1, -1):\n        y_i = y_true[i]\n        ntrue += y_i\n        gini += y_i * delta\n        delta += 1 - y_i\n    gini = 1 - 2 * gini / (ntrue * (n - ntrue))\n    return gini",
      "execution_count": null,
      "outputs": []
    },
    {
      "metadata": {
        "_uuid": "0f366168a95019d51590c1f1d0fc108b5cc49c12",
        "_cell_guid": "13eb15ee-ed55-477b-9ffc-28230c059a86",
        "trusted": false,
        "collapsed": true
      },
      "cell_type": "code",
      "source": "y_prob = clf_rf.predict_proba(X_test)[:,1]\ny_predict = clf_rf.predict(X_test)\nprint(metrics.confusion_matrix(y_test,y_predict))\nprint('Accuracy= ',metrics.accuracy_score(y_test,y_predict))\nprint('Recall = ',metrics.recall_score(y_test,y_predict))\nprint(sum(y_test))\nprint(metrics.f1_score(y_test,y_predict))\nprint(eval_gini(y_test,y_prob))",
      "execution_count": null,
      "outputs": []
    },
    {
      "metadata": {
        "_uuid": "5e143565ad8cc2a79f2eda165e56eff9a04f1871",
        "_cell_guid": "aa8bae51-e6af-4ffe-84a4-143271a76e34",
        "trusted": false,
        "collapsed": true
      },
      "cell_type": "code",
      "source": "import matplotlib.pyplot as plt\nfalse_positive_rate, true_positive_rate, thresholds = metrics.roc_curve(y_test, y_prob)\nroc_auc = metrics.auc(false_positive_rate, true_positive_rate)\nplt.title('Receiver Operating Characteristic (ROC Curve)')\nplt.plot(false_positive_rate, true_positive_rate, 'b', label='AUC = %0.2f'% roc_auc)\nplt.legend(loc='lower right')\nplt.plot([0,1],[0,1],'r--')\nplt.xlim([-0.1,1.2])\nplt.ylim([-0.1,1.2])\nplt.ylabel('True Positive Rate')\nplt.xlabel('False Positive Rate')\nplt.show()",
      "execution_count": null,
      "outputs": []
    },
    {
      "metadata": {
        "collapsed": true,
        "_uuid": "d137485b5831b7430d732f5a1b3a12c88e91bb73",
        "_cell_guid": "7ceb57a4-dff6-47ea-9538-9e5644365117",
        "trusted": false
      },
      "cell_type": "code",
      "source": "test_prob = clf_rf.predict_proba(test_NoNull_wDummies.drop('id',axis=1))[:,1]",
      "execution_count": null,
      "outputs": []
    },
    {
      "metadata": {
        "_uuid": "a5386506f0d8e6bb5b27cd869d3cc8ad3618ab00",
        "_cell_guid": "9d49de4d-2db3-46f8-9054-3ef9e7c2c1d3",
        "trusted": false,
        "collapsed": true
      },
      "cell_type": "code",
      "source": "#Creating Submission file\nsub = pd.DataFrame()\nsub['id'] =test['id']\nsub['target'] = test_prob\nsub.to_csv('xgboost.csv', index=False,float_format='%.2f')",
      "execution_count": null,
      "outputs": []
    },
    {
      "metadata": {
        "collapsed": true,
        "_uuid": "ab85f74ccea9af9c61ae952d988ac6cdb728da75",
        "_cell_guid": "3bcf22bd-0149-400d-ab4d-7389d2eb544e",
        "trusted": false
      },
      "cell_type": "code",
      "source": "",
      "execution_count": null,
      "outputs": []
    }
  ],
  "metadata": {
    "kernelspec": {
      "display_name": "Python 3",
      "language": "python",
      "name": "python3"
    },
    "language_info": {
      "nbconvert_exporter": "python",
      "name": "python",
      "pygments_lexer": "ipython3",
      "codemirror_mode": {
        "version": 3,
        "name": "ipython"
      },
      "file_extension": ".py",
      "version": "3.6.3",
      "mimetype": "text/x-python"
    }
  },
  "nbformat": 4,
  "nbformat_minor": 1
}