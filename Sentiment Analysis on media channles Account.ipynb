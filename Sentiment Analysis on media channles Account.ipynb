{
 "cells": [
  {
   "cell_type": "code",
   "execution_count": 35,
   "metadata": {
    "collapsed": true
   },
   "outputs": [],
   "source": [
    "#Importing required packages\n",
    "import tweepy\n",
    "from tweepy.streaming import StreamListener\n",
    "import json\n",
    "import pandas as pd\n",
    "from textblob import TextBlob\n",
    "import seaborn as sns"
   ]
  },
  {
   "cell_type": "code",
   "execution_count": 7,
   "metadata": {
    "collapsed": true
   },
   "outputs": [],
   "source": [
    "#Secret keys to access tweets using twitter API\n",
    "cKey = 'FuTiq3HBtmwaYTpmnxcJsRTFE'\n",
    "cSecret ='HLUo1KKF05i396UXSw81xlpkJJyxbKrY3o0Y8cYE4GcGJMpYlS'\n",
    "aToken = '99239077-FLd7whicYSaOhfiD96IvGcIpcCNIEafgPNj4phQ8P'\n",
    "aSecret ='nVIVklWEmn8LPinyUc7ymeUKHjVDlwSKm7FHIS3PAxuBb'\n",
    "\n",
    "auth = tweepy.OAuthHandler(cKey,cSecret)\n",
    "auth.set_access_token(aToken,aSecret)\n",
    "api = tweepy.API(auth)"
   ]
  },
  {
   "cell_type": "code",
   "execution_count": 8,
   "metadata": {
    "collapsed": true
   },
   "outputs": [],
   "source": [
    "#Function to extracte tweets for a given screen name in list:\n",
    "def tweetlist(twitterscreenname):\n",
    "    tlist = []\n",
    "    for status in tweepy.Cursor(api.user_timeline, screen_name=twitterscreenname).items():\n",
    "        tlist.append(status._json['text'])\n",
    "    return tlist\n",
    "    "
   ]
  },
  {
   "cell_type": "code",
   "execution_count": 67,
   "metadata": {},
   "outputs": [],
   "source": [
    "#Extracting tweets for top 4 news channels in India\n",
    "NLtweets = tweetlist('@newslaundry')\n",
    "SWtweets=  tweetlist('@SwarajyaMag')\n",
    "Reptweets =  tweetlist('@republic')\n",
    "NDTVtweets =  tweetlist('@ndtv')\n",
    "ZeeTVtweets = tweetlist('@ndtv')"
   ]
  },
  {
   "cell_type": "code",
   "execution_count": null,
   "metadata": {
    "collapsed": true
   },
   "outputs": [],
   "source": []
  },
  {
   "cell_type": "code",
   "execution_count": 70,
   "metadata": {},
   "outputs": [
    {
     "data": {
      "text/html": [
       "<div>\n",
       "<style>\n",
       "    .dataframe thead tr:only-child th {\n",
       "        text-align: right;\n",
       "    }\n",
       "\n",
       "    .dataframe thead th {\n",
       "        text-align: left;\n",
       "    }\n",
       "\n",
       "    .dataframe tbody tr th {\n",
       "        vertical-align: top;\n",
       "    }\n",
       "</style>\n",
       "<table border=\"1\" class=\"dataframe\">\n",
       "  <thead>\n",
       "    <tr style=\"text-align: right;\">\n",
       "      <th></th>\n",
       "      <th>NewsLaundry</th>\n",
       "      <th>Swarajya</th>\n",
       "      <th>Republic</th>\n",
       "      <th>NDTV</th>\n",
       "      <th>ZeeTV</th>\n",
       "    </tr>\n",
       "  </thead>\n",
       "  <tbody>\n",
       "    <tr>\n",
       "      <th>0</th>\n",
       "      <td>#NLCheatsheet | @Memeghnad explains the convol...</td>\n",
       "      <td>Go Watch ‘Padman’, And Watch It With Your Sons...</td>\n",
       "      <td>WhatsApp vs Paytm: It's on!\\nhttps://t.co/0o0f...</td>\n",
       "      <td>What is LoU? Punjab National Bank's Rs 11,300-...</td>\n",
       "      <td>What is LoU? Punjab National Bank's Rs 11,300-...</td>\n",
       "    </tr>\n",
       "    <tr>\n",
       "      <th>1</th>\n",
       "      <td>#NLHafta has gone behind the paywall. Here's a...</td>\n",
       "      <td>Aravindan Neelakandan watched ‘Padman’, and no...</td>\n",
       "      <td>#KanganaRanaut's latest move could spell more ...</td>\n",
       "      <td>Florida shooting suspect visited McDonald's, S...</td>\n",
       "      <td>Florida shooting suspect visited McDonald's, S...</td>\n",
       "    </tr>\n",
       "    <tr>\n",
       "      <th>2</th>\n",
       "      <td>#NLHafta: Where @AartiTikoo  asks @ARanganatha...</td>\n",
       "      <td>The multi-modal logistics hub is set to play a...</td>\n",
       "      <td>#ArrestNiravModi | REVEALED: The Alpha Files o...</td>\n",
       "      <td>Video: Train just a minute away, child falls o...</td>\n",
       "      <td>Video: Train just a minute away, child falls o...</td>\n",
       "    </tr>\n",
       "    <tr>\n",
       "      <th>3</th>\n",
       "      <td>#CampusPolitik| Is violence becoming the new n...</td>\n",
       "      <td>Udvada station in the Valsad district of Gujar...</td>\n",
       "      <td>#BiggBoss11 winner #ShilpaShinde just broke th...</td>\n",
       "      <td>US court says Trump travel ban unlawfully disc...</td>\n",
       "      <td>US court says Trump travel ban unlawfully disc...</td>\n",
       "    </tr>\n",
       "    <tr>\n",
       "      <th>4</th>\n",
       "      <td>#CampusPolitik| “More than academics, my profe...</td>\n",
       "      <td>Don't forget to check out our Weekend Edition:...</td>\n",
       "      <td>#ArrestNiravModi | REVEALED: The Alpha Files o...</td>\n",
       "      <td>Samsung hints at new camera features for Galax...</td>\n",
       "      <td>Samsung hints at new camera features for Galax...</td>\n",
       "    </tr>\n",
       "  </tbody>\n",
       "</table>\n",
       "</div>"
      ],
      "text/plain": [
       "                                         NewsLaundry  \\\n",
       "0  #NLCheatsheet | @Memeghnad explains the convol...   \n",
       "1  #NLHafta has gone behind the paywall. Here's a...   \n",
       "2  #NLHafta: Where @AartiTikoo  asks @ARanganatha...   \n",
       "3  #CampusPolitik| Is violence becoming the new n...   \n",
       "4  #CampusPolitik| “More than academics, my profe...   \n",
       "\n",
       "                                            Swarajya  \\\n",
       "0  Go Watch ‘Padman’, And Watch It With Your Sons...   \n",
       "1  Aravindan Neelakandan watched ‘Padman’, and no...   \n",
       "2  The multi-modal logistics hub is set to play a...   \n",
       "3  Udvada station in the Valsad district of Gujar...   \n",
       "4  Don't forget to check out our Weekend Edition:...   \n",
       "\n",
       "                                            Republic  \\\n",
       "0  WhatsApp vs Paytm: It's on!\\nhttps://t.co/0o0f...   \n",
       "1  #KanganaRanaut's latest move could spell more ...   \n",
       "2  #ArrestNiravModi | REVEALED: The Alpha Files o...   \n",
       "3  #BiggBoss11 winner #ShilpaShinde just broke th...   \n",
       "4  #ArrestNiravModi | REVEALED: The Alpha Files o...   \n",
       "\n",
       "                                                NDTV  \\\n",
       "0  What is LoU? Punjab National Bank's Rs 11,300-...   \n",
       "1  Florida shooting suspect visited McDonald's, S...   \n",
       "2  Video: Train just a minute away, child falls o...   \n",
       "3  US court says Trump travel ban unlawfully disc...   \n",
       "4  Samsung hints at new camera features for Galax...   \n",
       "\n",
       "                                               ZeeTV  \n",
       "0  What is LoU? Punjab National Bank's Rs 11,300-...  \n",
       "1  Florida shooting suspect visited McDonald's, S...  \n",
       "2  Video: Train just a minute away, child falls o...  \n",
       "3  US court says Trump travel ban unlawfully disc...  \n",
       "4  Samsung hints at new camera features for Galax...  "
      ]
     },
     "execution_count": 70,
     "metadata": {},
     "output_type": "execute_result"
    }
   ],
   "source": [
    "#Consolidating the tweets from allthe 4 news channels in a dataframe:\n",
    "MinRow = min(len(NLtweets),len(SWtweets),len(Reptweets),len(NDTVtweets),len(ZeeTVtweets))\n",
    "twitter_df = pd.DataFrame()\n",
    "twitter_df['NewsLaundry']=NLtweets[0:MinRow]\n",
    "twitter_df['Swarajya']=SWtweets[0:MinRow]\n",
    "twitter_df['Republic']=Reptweets[0:MinRow]\n",
    "twitter_df['NDTV']=NDTVtweets[0:MinRow]\n",
    "twitter_df['ZeeTV']=ZeeTVtweets[0:MinRow]\n",
    "twitter_df.head()"
   ]
  },
  {
   "cell_type": "code",
   "execution_count": 71,
   "metadata": {
    "collapsed": true
   },
   "outputs": [],
   "source": [
    "def analysetweets(colName,ChannelKey):\n",
    "    for i, row in twitter_df.T.iteritems():\n",
    "        if wordToSearch in row[colName].upper():\n",
    "            analysis = TextBlob(row[colName])\n",
    "            row[(str(colName)+'pol')] = analysis.sentiment.polarity\n",
    "            polaritycount(ChannelKey,row[(str(colName)+'pol')])"
   ]
  },
  {
   "cell_type": "code",
   "execution_count": 72,
   "metadata": {
    "collapsed": true
   },
   "outputs": [],
   "source": [
    "#Function to count the positive, negative and neutral tweets on a given topic\n",
    "def polaritycount(channelkey,polarity):\n",
    "    if polarity >0:\n",
    "        dictpolcount[channelkey][0] +=1\n",
    "    elif polarity <0:\n",
    "        dictpolcount[channelkey][1]+= +1\n",
    "    else:\n",
    "        dictpolcount[channelkey][2]+= +1 "
   ]
  },
  {
   "cell_type": "code",
   "execution_count": 104,
   "metadata": {},
   "outputs": [
    {
     "data": {
      "text/plain": [
       "{'NDTV': [0.09090909090909091, 0.21212121212121213, 0.696969696969697, 66, 0],\n",
       " 'NewsLaundry': [0.3103448275862069,\n",
       "  0.1724137931034483,\n",
       "  0.5172413793103449,\n",
       "  29,\n",
       "  0],\n",
       " 'Republic': [0.38095238095238093,\n",
       "  0.047619047619047616,\n",
       "  0.5714285714285714,\n",
       "  21,\n",
       "  0],\n",
       " 'Swarajya': [0.32432432432432434, 0.17567567567567569, 0.5, 74, 0],\n",
       " 'ZeeTV': [0.09090909090909091, 0.21212121212121213, 0.696969696969697, 66, 0]}"
      ]
     },
     "execution_count": 104,
     "metadata": {},
     "output_type": "execute_result"
    }
   ],
   "source": [
    "#Estimatingthe polarity of tweets using the TextBlob package:\n",
    "wordToSearch = 'TRUM'\n",
    "\n",
    "\n",
    "\n",
    "sentimentlist = [0,0,0,0,0]\n",
    "tweetcol = [c for c in twitter_df if 'Senti' not in c]\n",
    "dictpolcount ={}\n",
    "\n",
    "for col in tweetcol:\n",
    "    dictpolcount[col] = sentimentlist.copy()\n",
    "\n",
    "\n",
    "for i in range(len(tweetcol)):\n",
    "    analysetweets(tweetcol[i],list(dictpolcount.keys())[i])\n",
    "\n",
    "for key, value in dictpolcount.items():\n",
    "    if (value[0]+value[1]+value[2])>0:        \n",
    "        value[3] = value[0]+value[1]+value[2]\n",
    "        value[0]= value[0]/value[3]\n",
    "        value[1]= value[1]/value[3]\n",
    "        value[2] = value[2]/value[3]\n",
    "\n",
    "dictpolcount\n",
    "\n",
    "\n",
    "   "
   ]
  },
  {
   "cell_type": "code",
   "execution_count": 105,
   "metadata": {},
   "outputs": [],
   "source": [
    "df_analysis = pd.DataFrame(dictpolcount)\n",
    "df_analysis.index = ['Positive','Negative','Neutral','Total','Positive%']"
   ]
  },
  {
   "cell_type": "code",
   "execution_count": 106,
   "metadata": {},
   "outputs": [
    {
     "data": {
      "text/html": [
       "<div>\n",
       "<style>\n",
       "    .dataframe thead tr:only-child th {\n",
       "        text-align: right;\n",
       "    }\n",
       "\n",
       "    .dataframe thead th {\n",
       "        text-align: left;\n",
       "    }\n",
       "\n",
       "    .dataframe tbody tr th {\n",
       "        vertical-align: top;\n",
       "    }\n",
       "</style>\n",
       "<table border=\"1\" class=\"dataframe\">\n",
       "  <thead>\n",
       "    <tr style=\"text-align: right;\">\n",
       "      <th></th>\n",
       "      <th>NDTV</th>\n",
       "      <th>NewsLaundry</th>\n",
       "      <th>Republic</th>\n",
       "      <th>Swarajya</th>\n",
       "      <th>ZeeTV</th>\n",
       "    </tr>\n",
       "  </thead>\n",
       "  <tbody>\n",
       "    <tr>\n",
       "      <th>Positive</th>\n",
       "      <td>0.090909</td>\n",
       "      <td>0.310345</td>\n",
       "      <td>0.380952</td>\n",
       "      <td>0.324324</td>\n",
       "      <td>0.090909</td>\n",
       "    </tr>\n",
       "    <tr>\n",
       "      <th>Negative</th>\n",
       "      <td>0.212121</td>\n",
       "      <td>0.172414</td>\n",
       "      <td>0.047619</td>\n",
       "      <td>0.175676</td>\n",
       "      <td>0.212121</td>\n",
       "    </tr>\n",
       "    <tr>\n",
       "      <th>Neutral</th>\n",
       "      <td>0.696970</td>\n",
       "      <td>0.517241</td>\n",
       "      <td>0.571429</td>\n",
       "      <td>0.500000</td>\n",
       "      <td>0.696970</td>\n",
       "    </tr>\n",
       "    <tr>\n",
       "      <th>Total</th>\n",
       "      <td>66.000000</td>\n",
       "      <td>29.000000</td>\n",
       "      <td>21.000000</td>\n",
       "      <td>74.000000</td>\n",
       "      <td>66.000000</td>\n",
       "    </tr>\n",
       "    <tr>\n",
       "      <th>Positive%</th>\n",
       "      <td>0.000000</td>\n",
       "      <td>0.000000</td>\n",
       "      <td>0.000000</td>\n",
       "      <td>0.000000</td>\n",
       "      <td>0.000000</td>\n",
       "    </tr>\n",
       "  </tbody>\n",
       "</table>\n",
       "</div>"
      ],
      "text/plain": [
       "                NDTV  NewsLaundry   Republic   Swarajya      ZeeTV\n",
       "Positive    0.090909     0.310345   0.380952   0.324324   0.090909\n",
       "Negative    0.212121     0.172414   0.047619   0.175676   0.212121\n",
       "Neutral     0.696970     0.517241   0.571429   0.500000   0.696970\n",
       "Total      66.000000    29.000000  21.000000  74.000000  66.000000\n",
       "Positive%   0.000000     0.000000   0.000000   0.000000   0.000000"
      ]
     },
     "execution_count": 106,
     "metadata": {},
     "output_type": "execute_result"
    }
   ],
   "source": [
    "df_analysis"
   ]
  },
  {
   "cell_type": "code",
   "execution_count": 107,
   "metadata": {},
   "outputs": [
    {
     "data": {
      "text/html": [
       "<div>\n",
       "<style>\n",
       "    .dataframe thead tr:only-child th {\n",
       "        text-align: right;\n",
       "    }\n",
       "\n",
       "    .dataframe thead th {\n",
       "        text-align: left;\n",
       "    }\n",
       "\n",
       "    .dataframe tbody tr th {\n",
       "        vertical-align: top;\n",
       "    }\n",
       "</style>\n",
       "<table border=\"1\" class=\"dataframe\">\n",
       "  <thead>\n",
       "    <tr style=\"text-align: right;\">\n",
       "      <th></th>\n",
       "      <th>total_bill</th>\n",
       "      <th>tip</th>\n",
       "      <th>sex</th>\n",
       "      <th>smoker</th>\n",
       "      <th>day</th>\n",
       "      <th>time</th>\n",
       "      <th>size</th>\n",
       "    </tr>\n",
       "  </thead>\n",
       "  <tbody>\n",
       "    <tr>\n",
       "      <th>0</th>\n",
       "      <td>16.99</td>\n",
       "      <td>1.01</td>\n",
       "      <td>Female</td>\n",
       "      <td>No</td>\n",
       "      <td>Sun</td>\n",
       "      <td>Dinner</td>\n",
       "      <td>2</td>\n",
       "    </tr>\n",
       "    <tr>\n",
       "      <th>1</th>\n",
       "      <td>10.34</td>\n",
       "      <td>1.66</td>\n",
       "      <td>Male</td>\n",
       "      <td>No</td>\n",
       "      <td>Sun</td>\n",
       "      <td>Dinner</td>\n",
       "      <td>3</td>\n",
       "    </tr>\n",
       "    <tr>\n",
       "      <th>2</th>\n",
       "      <td>21.01</td>\n",
       "      <td>3.50</td>\n",
       "      <td>Male</td>\n",
       "      <td>No</td>\n",
       "      <td>Sun</td>\n",
       "      <td>Dinner</td>\n",
       "      <td>3</td>\n",
       "    </tr>\n",
       "    <tr>\n",
       "      <th>3</th>\n",
       "      <td>23.68</td>\n",
       "      <td>3.31</td>\n",
       "      <td>Male</td>\n",
       "      <td>No</td>\n",
       "      <td>Sun</td>\n",
       "      <td>Dinner</td>\n",
       "      <td>2</td>\n",
       "    </tr>\n",
       "    <tr>\n",
       "      <th>4</th>\n",
       "      <td>24.59</td>\n",
       "      <td>3.61</td>\n",
       "      <td>Female</td>\n",
       "      <td>No</td>\n",
       "      <td>Sun</td>\n",
       "      <td>Dinner</td>\n",
       "      <td>4</td>\n",
       "    </tr>\n",
       "  </tbody>\n",
       "</table>\n",
       "</div>"
      ],
      "text/plain": [
       "   total_bill   tip     sex smoker  day    time  size\n",
       "0       16.99  1.01  Female     No  Sun  Dinner     2\n",
       "1       10.34  1.66    Male     No  Sun  Dinner     3\n",
       "2       21.01  3.50    Male     No  Sun  Dinner     3\n",
       "3       23.68  3.31    Male     No  Sun  Dinner     2\n",
       "4       24.59  3.61  Female     No  Sun  Dinner     4"
      ]
     },
     "execution_count": 107,
     "metadata": {},
     "output_type": "execute_result"
    }
   ],
   "source": [
    "tips.head()"
   ]
  },
  {
   "cell_type": "code",
   "execution_count": 108,
   "metadata": {},
   "outputs": [
    {
     "data": {
      "text/plain": [
       "<matplotlib.axes._subplots.AxesSubplot at 0x150b9993160>"
      ]
     },
     "execution_count": 108,
     "metadata": {},
     "output_type": "execute_result"
    },
    {
     "data": {
      "image/png": "[encoded data removed]",
      "text/plain": [
       "<matplotlib.figure.Figure at 0x150b9993ac8>"
      ]
     },
     "metadata": {},
     "output_type": "display_data"
    }
   ],
   "source": [
    "sns.set_style(\"whitegrid\")\n",
    "#tips = sns.load_dataset(\"tips\")\n",
    "#ax = sns.barplot(x=df_analysis.index, y=\"NDTV\", data=df_analysis)\n",
    "\n",
    "sns.set()\n",
    "df_analysis[(df_analysis.index!='Total') & (df_analysis.index!='Positive%')].T.plot(kind='bar', stacked=True)"
   ]
  },
  {
   "cell_type": "code",
   "execution_count": 109,
   "metadata": {},
   "outputs": [
    {
     "data": {
      "text/plain": [
       "array([ True,  True,  True, False, False], dtype=bool)"
      ]
     },
     "execution_count": 109,
     "metadata": {},
     "output_type": "execute_result"
    }
   ],
   "source": [
    "(df_analysis.index!='Total') & (df_analysis.index !='Positive%')"
   ]
  },
  {
   "cell_type": "code",
   "execution_count": null,
   "metadata": {
    "collapsed": true
   },
   "outputs": [],
   "source": []
  }
 ],
 "metadata": {
  "kernelspec": {
   "display_name": "Python 3",
   "language": "python",
   "name": "python3"
  },
  "language_info": {
   "codemirror_mode": {
    "name": "ipython",
    "version": 3
   },
   "file_extension": ".py",
   "mimetype": "text/x-python",
   "name": "python",
   "nbconvert_exporter": "python",
   "pygments_lexer": "ipython3",
   "version": "3.6.1"
  }
 },
 "nbformat": 4,
 "nbformat_minor": 2
}
