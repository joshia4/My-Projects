{
  "cells": [
    {
      "metadata": {
        "collapsed": true,
        "_uuid": "214bd7a5a9ae5c392470423c7107ecce33d1cf40",
        "_cell_guid": "0985a677-b183-4426-b7b2-2e6386023312"
      },
      "cell_type": "markdown",
      "source": "### EDA\n\n### Exploring data to understand key features and clean the data"
    },
    {
      "metadata": {
        "collapsed": true,
        "_uuid": "6c58398481e0825452030c8a619a536edc97f870",
        "_cell_guid": "6ab6ab54-8b7c-4972-9717-b1c8689d6d49",
        "trusted": false
      },
      "cell_type": "code",
      "source": "# Importing the required packages:\nimport numpy as np # linear algebra\nimport pandas as pd # data processing, CSV file I/O (e.g. pd.read_csv)\nimport seaborn as sns\nimport matplotlib.pyplot as plt\n%matplotlib inline",
      "execution_count": null,
      "outputs": []
    },
    {
      "metadata": {
        "collapsed": true,
        "_uuid": "bbd52f67b1284b1dd85f3bcf668cc2b512f984d0",
        "_cell_guid": "b3fcd45f-205d-4087-8bd5-71b46e15bec9",
        "trusted": false
      },
      "cell_type": "code",
      "source": "# importing train and test data sets and \ntrain = pd.read_csv('../input/train.csv')\ntest = pd.read_csv('../input/test.csv')",
      "execution_count": null,
      "outputs": []
    },
    {
      "metadata": {
        "collapsed": true,
        "_uuid": "4aeecc38ee4ec65764d8685f3d352589b419b5f9",
        "_cell_guid": "deeda9c8-223f-41d0-894d-fe9246879cdc",
        "trusted": false
      },
      "cell_type": "code",
      "source": "testRecordCount = test.shape[0]\ntrainRecordCount = train.shape[0]",
      "execution_count": null,
      "outputs": []
    },
    {
      "metadata": {
        "_uuid": "3f5f482a9592e7ef04586db9552fa17e8392b300",
        "_cell_guid": "b724e7f7-9225-4376-a189-4847a99dbd77",
        "trusted": false,
        "collapsed": true
      },
      "cell_type": "code",
      "source": "# Dimentions of Size of the train data\nprint('This dataset contain',train.shape[0],'rows and',train.shape[1],'columns')",
      "execution_count": null,
      "outputs": []
    },
    {
      "metadata": {
        "_uuid": "7413e3426af33764449eea6fd7999c152d2c3ee3",
        "_cell_guid": "c42ef237-d341-41a0-88d0-12a81008a584",
        "trusted": false,
        "collapsed": true
      },
      "cell_type": "code",
      "source": "#Lets describe the data\ntrain.describe()",
      "execution_count": null,
      "outputs": []
    },
    {
      "metadata": {
        "collapsed": true,
        "_uuid": "371da16551094448bc5cfa264530e024c104e2c2",
        "_cell_guid": "3e59a330-8d88-489b-a162-3e29f7c1340c",
        "trusted": false
      },
      "cell_type": "code",
      "source": "columdatatypes = pd.DataFrame({'Feature': train.columns , 'Data Type': train.dtypes.values})",
      "execution_count": null,
      "outputs": []
    },
    {
      "metadata": {
        "collapsed": true,
        "_uuid": "c08f3887db645dd0396099a3bd3c12441ce82ed7",
        "_cell_guid": "b55654e8-322f-493d-b9aa-0c18bc999029",
        "trusted": false
      },
      "cell_type": "code",
      "source": "## Fixing -1 with NaN values\ntrain_withNull = train.replace(-1, np.NaN)\ntest_withNull = test.replace(-1, np.NaN)",
      "execution_count": null,
      "outputs": []
    },
    {
      "metadata": {
        "_uuid": "0ee871dcdd2d2e1d99ef5b7e2655f5b04a8d2f8e",
        "_cell_guid": "22f2fea1-6148-40a5-8e06-ea2f6db202d2",
        "trusted": false,
        "collapsed": true
      },
      "cell_type": "code",
      "source": "# Listing columns which contain null values\nNullColumns = train_withNull.isnull().any()[train_withNull.isnull().any()].index.tolist()\nNullColumns",
      "execution_count": null,
      "outputs": []
    },
    {
      "metadata": {
        "_uuid": "ef58cc9094f900bc5ceba1bc8eeffad6019c1349",
        "_cell_guid": "9b7bc0f0-2422-4c7c-8d88-c6d50645a215",
        "trusted": false,
        "collapsed": true
      },
      "cell_type": "code",
      "source": "# Heat map of null value columns in the data \n#In the data, NULL values have been coded as -1\nplt.figure(figsize=(10,3))\nsns.heatmap(train_withNull[NullColumns].isnull().astype(int), cmap='viridis')",
      "execution_count": null,
      "outputs": []
    },
    {
      "metadata": {
        "scrolled": true,
        "_cell_guid": "1674d2ad-1ff4-4360-adcd-a611238de8dc",
        "_uuid": "7608aea1abc6e09a3aecbab6c4c1c35a643992fa",
        "trusted": false,
        "collapsed": true
      },
      "cell_type": "code",
      "source": "# percentage of values that are null in each column\nprint((train_withNull[NullColumns].isnull().sum()/train_withNull[NullColumns].isnull().count())*100)\nprint((test_withNull[NullColumns].isnull().sum()/test_withNull[NullColumns].isnull().count())*100)",
      "execution_count": null,
      "outputs": []
    },
    {
      "metadata": {
        "collapsed": true,
        "_uuid": "a4c72fcba315ac28894e2b00ee85ba93cda2431d",
        "_cell_guid": "9ccf552d-19d5-4ade-bd06-b96b7db45519",
        "trusted": false
      },
      "cell_type": "code",
      "source": "#We can feed these values with the median values of these columns\ntrain_median_values = train_withNull.median(axis=0)\ntest_median_values = test_withNull.median(axis=0)\ntrain_NoNull = train_withNull.fillna(train_median_values, inplace=False)\ntest_NoNull = test_withNull.fillna(test_median_values, inplace=False)",
      "execution_count": null,
      "outputs": []
    },
    {
      "metadata": {
        "_uuid": "4f68e8cfdba3fae0952b3fa056df4ff3256b1019",
        "_cell_guid": "f4158cdf-55d9-4f8c-9b3f-db0b485f0840",
        "trusted": false,
        "collapsed": true
      },
      "cell_type": "code",
      "source": "# HEat map after replacing all NULL values with the corresponding column medians\nplt.figure(figsize=(10,4))\nsns.heatmap(train_NoNull.isnull(), cmap='viridis')",
      "execution_count": null,
      "outputs": []
    },
    {
      "metadata": {
        "_uuid": "223bc3e3b256d9710b9add09b6206faf6b6e80f3",
        "_cell_guid": "991ba5fd-d753-4b7f-8925-7a712a2e8116"
      },
      "cell_type": "markdown",
      "source": "#### There are no nulls in the data anymore"
    },
    {
      "metadata": {
        "collapsed": true,
        "_uuid": "7cc842594c0586b0734fd96e80653ce0dcf80762",
        "_cell_guid": "2922e9eb-6fe4-4a66-9872-aa71713a3309",
        "trusted": false
      },
      "cell_type": "code",
      "source": "#Segregating binary, categorical and continuous columns \nCatColumns = [c for c in train_NoNull.columns if c.endswith(\"cat\")]\nBinColumns = [c for c in train_NoNull.columns if c.endswith(\"bin\")]\nContColumns = [c for c in train_NoNull.columns if (c not in CatColumns and c not in BinColumns) ]\n",
      "execution_count": null,
      "outputs": []
    },
    {
      "metadata": {
        "_uuid": "878ce2cb659c3d94b1bf598fe25625154af0c447",
        "_cell_guid": "7a9e7475-abb3-426b-b50e-4994b03e8a12",
        "trusted": false,
        "collapsed": true
      },
      "cell_type": "code",
      "source": "print('# of categorical columns =',len(CatColumns))\nprint('# of Binary columns =',len(BinColumns))\nprint('# of Continuous columns =',len(ContColumns))\n",
      "execution_count": null,
      "outputs": []
    },
    {
      "metadata": {
        "_uuid": "e4216cc95bf46b6ebdfaa2514ec838a855606663",
        "_cell_guid": "a3b3eb2c-f07b-46be-88d5-51683d249993",
        "trusted": false,
        "collapsed": true
      },
      "cell_type": "code",
      "source": "#Analysing Binary featuresns:\nplt.figure(figsize=(9,5))\nfor i,c in enumerate(BinColumns):\n    ax = plt.subplot(3,7,i+1)\n    sns.countplot(train_NoNull[c],orient ='v')",
      "execution_count": null,
      "outputs": []
    },
    {
      "metadata": {
        "_uuid": "bba63dc0d6c8cb1c812cd59d3fe5adeec03cd9d5",
        "_cell_guid": "75c3fc94-f88a-43e6-ad0e-39e1f8f3512e"
      },
      "cell_type": "markdown",
      "source": "It seems all binary columns have mix of zero and one. Else we could eliminate those binary columns which are all zero or all 1 values"
    },
    {
      "metadata": {
        "_uuid": "ecb3f4b0760d7e5bdd817206d7f1e85730369ff7",
        "_cell_guid": "2e77d4ec-f1c9-453d-b25e-9eef12e54af8",
        "trusted": false,
        "collapsed": true
      },
      "cell_type": "code",
      "source": "#Analysing output variable 'target:\nplt.figure(figsize=(9,5))\nsns.countplot(train_NoNull['target'],orient ='v',)",
      "execution_count": null,
      "outputs": []
    },
    {
      "metadata": {
        "_uuid": "51c1451fce608881b1f5d35dcf780c47c7f3ffa0",
        "_cell_guid": "91a1ca00-393f-4638-aa67-c36dd5af6553",
        "trusted": false,
        "collapsed": true
      },
      "cell_type": "code",
      "source": "# % of true values\n((train_NoNull['target']==1).sum()/(train_NoNull['target']==1).count())*100",
      "execution_count": null,
      "outputs": []
    },
    {
      "metadata": {
        "_uuid": "7234e636b41554d0ebdcfe353267bb387fce1cdc",
        "_cell_guid": "a450e0fe-4812-45c2-aae8-6aea125234ba"
      },
      "cell_type": "markdown",
      "source": "The output variable is highly imbalanced towards not true"
    },
    {
      "metadata": {
        "collapsed": true,
        "_uuid": "c4dcfd2352fd1f203ef17c183d9d050dcad938b4",
        "_cell_guid": "f3d46b63-5dff-4696-b67d-105951636326",
        "trusted": false
      },
      "cell_type": "code",
      "source": "#Within continuous variables, there are many different groups denoted by tags 'ind','reg', 'car' and calc. LEle\n#analyse those groups separately\nindContColumns = [c for c in ContColumns if c.find('ind')!=-1]\nregContColumns = [c for c in ContColumns if c.find('reg')!=-1]\ncarContColumns = [c for c in ContColumns if c.find('car')!=-1]\ncalcContColumns = [c for c in ContColumns if c.find('calc')!=-1]",
      "execution_count": null,
      "outputs": []
    },
    {
      "metadata": {
        "_uuid": "466d7d321f5e3f95542351fcc12005e1daed34bb",
        "_cell_guid": "766a30f1-c0c5-4285-bf1d-27a36c7424f2",
        "trusted": false,
        "collapsed": true
      },
      "cell_type": "code",
      "source": "print('# of independent continuous columns =',len(indContColumns))\nprint('# of reg continuous columns=',len(regContColumns))\nprint('# of car continuous columns',len(carContColumns))\nprint('# of calculated continuous columns',len(calcContColumns))",
      "execution_count": null,
      "outputs": []
    },
    {
      "metadata": {
        "_uuid": "18c6c00e3574da5cc71f50c1a057888cc9477630",
        "_cell_guid": "7379aef9-cce0-43d1-a768-4109da1ee2b5",
        "trusted": false,
        "collapsed": true
      },
      "cell_type": "code",
      "source": "# Check for correlation between various continuous columns\nplt.figure(figsize=(10,5))\nsns.heatmap(train_NoNull[ContColumns].corr(), annot  = False,cmap= plt.cm.inferno)",
      "execution_count": null,
      "outputs": []
    },
    {
      "metadata": {
        "_uuid": "479e329a19b35cf6abd7db1370f4f4180179895a",
        "_cell_guid": "aabf279a-8e91-4d79-ba20-cd9a0260038e"
      },
      "cell_type": "markdown",
      "source": "Here we can observe that the 'target' variable which is the predicted variable is not correlated with nay of the continous columns"
    },
    {
      "metadata": {
        "_uuid": "6ed73a64e43c579b527263d703bf97d2db72d0a0",
        "_cell_guid": "6a9359c4-73e0-48a2-8c70-956af46a4a1f",
        "trusted": false,
        "collapsed": true
      },
      "cell_type": "code",
      "source": "#Plotting count of individual categories in each category attribute\nplt.figure(figsize=(15,10))\nfor i,c in enumerate(CatColumns):\n    ax = plt.subplot(4,4,i+1)\n    sns.countplot(train_NoNull[c],orient ='v')",
      "execution_count": null,
      "outputs": []
    },
    {
      "metadata": {
        "_uuid": "f4bb5c8f19370acfd018f8858576c910bee43e34",
        "_cell_guid": "387ce6d0-7134-4f01-8503-cb689d6ec4b1",
        "trusted": false,
        "collapsed": true
      },
      "cell_type": "code",
      "source": "# Let's deep dive into ps_car_11_cat attribute as it has a large number of categories\nplt.figure(figsize=(20,5))\nax = plt.subplot()\nsns.countplot(train_NoNull['ps_car_11_cat'],orient ='v')",
      "execution_count": null,
      "outputs": []
    },
    {
      "metadata": {
        "_uuid": "29cf49d04c50d8e29e7e59b4dc97286371589ade",
        "_cell_guid": "0595983f-1d99-4d40-beee-5371b418ea7e",
        "trusted": false,
        "collapsed": true
      },
      "cell_type": "code",
      "source": "# Let's look at the top 20 categories in 'ps_car_11_cat' attribute\ntrain_NoNull['ps_car_11_cat'].value_counts().head(20).plot(kind='bar')",
      "execution_count": null,
      "outputs": []
    },
    {
      "metadata": {
        "scrolled": true,
        "_cell_guid": "93ae79dd-1570-436f-9fa5-42d94fbb6c36",
        "_uuid": "7dea33760fef63e9644523876139b373fe5e7304",
        "trusted": false,
        "collapsed": true
      },
      "cell_type": "code",
      "source": "# Lets convert categorical attributes to their corresponding dummy variables by one hot encoding\ntrain_NoNull_wDummies = pd.get_dummies(train_NoNull,columns = CatColumns,prefix=None, drop_first=True)\ntest_NoNull_wDummies = pd.get_dummies(test_NoNull,columns = CatColumns,prefix=None, drop_first=True)\ntrain_NoNull_wDummies.head()",
      "execution_count": null,
      "outputs": []
    },
    {
      "metadata": {
        "collapsed": true,
        "_uuid": "848cdadb088cad50ab4d7fdc64749a8ce190b09e",
        "_cell_guid": "dbd17e52-160b-4fa8-b13d-8abfdb017178",
        "trusted": false
      },
      "cell_type": "code",
      "source": "# Getting rid of target column to create input train data\nX = train_NoNull_wDummies.drop(['target','id'],axis=1)\ny = train_NoNull_wDummies['target']",
      "execution_count": null,
      "outputs": []
    },
    {
      "metadata": {
        "collapsed": true,
        "_uuid": "e90936f63e6c4aba4c832a7fcd56236380c1814f",
        "_cell_guid": "7c449816-5f24-4631-a39a-65a8413623fb",
        "trusted": false
      },
      "cell_type": "code",
      "source": "# Divding input train data into train and test dataset\nfrom sklearn.model_selection import train_test_split\nX_train, X_test, y_train, y_test=train_test_split(X,y,test_size =0.3,random_state=10)",
      "execution_count": null,
      "outputs": []
    },
    {
      "metadata": {
        "collapsed": true,
        "_uuid": "7131ffe2f91cad4ccf8232befe448b488bacd091",
        "_cell_guid": "ef5492c5-1b9b-4757-aed1-a5f053ae925c",
        "trusted": false
      },
      "cell_type": "code",
      "source": "# Computing gini coefficient ( Coursey Kaggle)\n# from CPMP's kernel https://www.kaggle.com/cpmpml/extremely-fast-gini-computation @jit\ndef eval_gini(y_true, y_prob):\n    y_true = np.asarray(y_true)\n    y_true = y_true[np.argsort(y_prob)]\n    ntrue = 0\n    gini = 0\n    delta = 0\n    n = len(y_true)\n    for i in range(n-1, -1, -1):\n        y_i = y_true[i]\n        ntrue += y_i\n        gini += y_i * delta\n        delta += 1 - y_i\n    gini = 1 - 2 * gini / (ntrue * (n - ntrue))\n    return gini",
      "execution_count": null,
      "outputs": []
    },
    {
      "metadata": {
        "collapsed": true,
        "_uuid": "567dded734a05212a2eb122eebf94d5bb50c0300",
        "_cell_guid": "e0a87d6e-0379-444d-81fa-65b2b0931521",
        "trusted": false
      },
      "cell_type": "code",
      "source": "# Importing Xgboost library and generating xgb's internal object Dmatrix\nimport xgboost as xgb\ndX_train = xgb.DMatrix(X_train, label = y_train)\ndX_test = xgb.DMatrix(X_test, label = y_test)",
      "execution_count": null,
      "outputs": []
    },
    {
      "metadata": {
        "collapsed": true,
        "_uuid": "d889c84aeba157c51291e11d77227198da92968c",
        "_cell_guid": "44086c6d-699b-4410-9ba2-cbb70d964d81",
        "trusted": false
      },
      "cell_type": "code",
      "source": "# Parameters to be used in xgboost model\nparam = {}\nparam['objective'] = 'binary:logistic'\nparam['eta'] = 0.1\nparam['silent'] = True\nparam['max_depth'] = 20\nparam['subsample'] = 0.8\nparam['colsample_bytree'] = 0.8\nparam['eval_metric'] = 'auc'\nevallist  = [(dX_test,'eval'), (dX_train,'train')]",
      "execution_count": null,
      "outputs": []
    },
    {
      "metadata": {
        "_uuid": "0fa5c0beb86117ff579db9dd6f7fa9ab7521f24f",
        "_cell_guid": "967ea4d2-4472-4c75-ab9f-646f098f32f0",
        "trusted": false,
        "collapsed": true
      },
      "cell_type": "code",
      "source": "# training xgb model on training dataset\nmodel=xgb.train(param, dX_train, 100, evallist, early_stopping_rounds=20, maximize=True, verbose_eval=9)",
      "execution_count": null,
      "outputs": []
    },
    {
      "metadata": {
        "_uuid": "276b6c36b8dfc31fd43e9fac72f67b4f7e37cec1",
        "_cell_guid": "b6bf7816-56f9-41b3-b037-b5d9c2867307",
        "trusted": false,
        "collapsed": true
      },
      "cell_type": "code",
      "source": "# Predicting probabilities from the learned xgb model\ny_prob = model.predict(dX_test)\neval_gini(y_test, y_prob)",
      "execution_count": null,
      "outputs": []
    },
    {
      "metadata": {
        "_uuid": "8188eb57cd36b1c07657bc9080a9874b2afeeaa2",
        "_cell_guid": "a3ad6bd9-8a73-4905-868b-0fc0bd61bbfb",
        "trusted": false,
        "collapsed": true
      },
      "cell_type": "code",
      "source": "#Plotting ROC AUC curve for the predictions\nimport matplotlib.pyplot as plt\nfalse_positive_rate, true_positive_rate, thresholds = metrics.roc_curve(y_test, y_prob)\nroc_auc = metrics.auc(false_positive_rate, true_positive_rate)\nplt.title('Receiver Operating Characteristic (ROC Curve)')\nplt.plot(false_positive_rate, true_positive_rate, 'b', label='AUC = %0.2f'% roc_auc)\nplt.legend(loc='lower right')\nplt.plot([0,1],[0,1],'r--')\nplt.xlim([-0.1,1.2])\nplt.ylim([-0.1,1.2])\nplt.ylabel('True Positive Rate')\nplt.xlabel('False Positive Rate')\nplt.show()",
      "execution_count": null,
      "outputs": []
    },
    {
      "metadata": {
        "collapsed": true,
        "_uuid": "17cb130d43a62fb264bf27ef3e58cb94bb609f21",
        "_cell_guid": "d46b8a89-f3d0-4b76-95d7-d37c873efcec",
        "trusted": false
      },
      "cell_type": "code",
      "source": "test_prob = model.predict(xgb.DMatrix(test_NoNull_wDummies.drop('id',axis=1)))",
      "execution_count": null,
      "outputs": []
    },
    {
      "metadata": {
        "collapsed": true,
        "_uuid": "858e9564fc7ed5583724534231561b004291bf76",
        "_cell_guid": "fc072e16-f34e-481f-ab19-4fb0a4adc4fa",
        "trusted": false
      },
      "cell_type": "code",
      "source": "#Creating Submission file\nsub = pd.DataFrame()\nsub['id'] =test['id']\nsub['target'] = test_prob\nsub.to_csv('xgboost.csv', index=False,float_format='%.2f')",
      "execution_count": null,
      "outputs": []
    }
  ],
  "metadata": {
    "language_info": {
      "file_extension": ".py",
      "version": "3.6.3",
      "codemirror_mode": {
        "version": 3,
        "name": "ipython"
      },
      "mimetype": "text/x-python",
      "name": "python",
      "pygments_lexer": "ipython3",
      "nbconvert_exporter": "python"
    },
    "kernelspec": {
      "display_name": "Python 3",
      "language": "python",
      "name": "python3"
    }
  },
  "nbformat": 4,
  "nbformat_minor": 1
}